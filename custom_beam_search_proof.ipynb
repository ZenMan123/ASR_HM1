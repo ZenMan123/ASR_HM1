{
 "cells": [
  {
   "cell_type": "code",
   "execution_count": null,
   "id": "e89a7976",
   "metadata": {},
   "outputs": [],
   "source": [
    "!(cd ASR_HM1 && python inference.py datasets=test_only metrics=custom_beam)"
   ]
  }
 ],
 "metadata": {
  "kernelspec": {
   "display_name": "Python 3",
   "language": "python",
   "name": "python3"
  },
  "language_info": {
   "name": "python",
   "version": "3.11.9"
  }
 },
 "nbformat": 4,
 "nbformat_minor": 5
}
