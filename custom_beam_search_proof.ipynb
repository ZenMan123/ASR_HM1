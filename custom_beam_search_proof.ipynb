{
 "cells": [
  {
   "cell_type": "markdown",
   "id": "d4276327",
   "metadata": {},
   "source": [
    "### Доказательство того, что самописный beam search работает"
   ]
  },
  {
   "cell_type": "code",
   "execution_count": null,
   "id": "f071848e",
   "metadata": {},
   "outputs": [],
   "source": [
    "# Клонируем репозиторий\n",
    "!git clone https://github.com/ZenMan123/ASR_HM1.git"
   ]
  },
  {
   "cell_type": "code",
   "execution_count": null,
   "id": "d80db3b1",
   "metadata": {},
   "outputs": [],
   "source": [
    "# Ставим все необходимые библиотеки\n",
    "!pip install -r ASR_HM1/requirements.txt"
   ]
  },
  {
   "cell_type": "code",
   "execution_count": null,
   "id": "3a3b8b8d",
   "metadata": {},
   "outputs": [],
   "source": [
    "# Подгружаем финальную модельку\n",
    "\n",
    "from huggingface_hub import snapshot_download\n",
    "\n",
    "snapshot_download(\n",
    "    repo_id=\"ZenMan67/asr_checkpoint_baseline\",\n",
    "    repo_type=\"model\",\n",
    "    local_dir=\"ASR_HM1/saved/asr_checkpoint_baseline\",\n",
    "    local_dir_use_symlinks=False\n",
    ")"
   ]
  },
  {
   "cell_type": "code",
   "execution_count": null,
   "id": "e89a7976",
   "metadata": {},
   "outputs": [],
   "source": [
    "# Переходим в нужную папочку и запускаем замер\n",
    "# Тут поставил (limit=500), потому что работает самописный бимсерч очень долго\n",
    "\n",
    "!(cd ASR_HM1 && python inference.py metrics=custom_beam datasets=test_only \\\n",
    "    inferencer.from_pretrained=\"saved/asr_checkpoint_baseline/model_best.pth\" \\\n",
    "    text_encoder=ctc_text_encoder)"
   ]
  }
 ],
 "metadata": {
  "kernelspec": {
   "display_name": "Python 3",
   "language": "python",
   "name": "python3"
  },
  "language_info": {
   "name": "python",
   "version": "3.11.9"
  }
 },
 "nbformat": 4,
 "nbformat_minor": 5
}
